{
 "cells": [
  {
   "cell_type": "markdown",
   "metadata": {},
   "source": [
    "Let's load relevant libraries. You will need to install https://github.com/franciscovillaescusa/Pylians3 and put it on your path. You also need the scientific computing stack (numpy, matplotlib, etc.) as well as PyTorch, PyTorch geometric, and tqdm."
   ]
  },
  {
   "cell_type": "code",
   "execution_count": 4,
   "metadata": {},
   "outputs": [],
   "source": [
    "from quijote_gn_nv import *"
   ]
  },
  {
   "cell_type": "markdown",
   "metadata": {},
   "source": [
    "This loads a single simulation's graph, with a cutoff of 50 units between nodes. This creates the following histogram of the # of connections per node:"
   ]
  },
  {
   "cell_type": "code",
   "execution_count": 5,
   "metadata": {},
   "outputs": [
    {
     "data": {
      "image/png": "[encoded data removed]",
      "text/plain": [
       "<Figure size 432x288 with 1 Axes>"
      ]
     },
     "metadata": {
      "needs_background": "light"
     },
     "output_type": "display_data"
    }
   ],
   "source": [
    "graph_data = load_graph_data(realization=0, cutoff=50)\n",
    "initial_mask = graph_data['graph'].y[:, 1].clone()"
   ]
  },
  {
   "cell_type": "markdown",
   "metadata": {},
   "source": [
    "Let's create a graph network with 500 hidden nodes (so the hidden layer matrix multiplications are 500x500) and message dimension of 100."
   ]
  },
  {
   "cell_type": "code",
   "execution_count": 6,
   "metadata": {},
   "outputs": [],
   "source": [
    "ogn = create_graph_network(hidden=500, msg_dim=100)"
   ]
  },
  {
   "cell_type": "markdown",
   "metadata": {},
   "source": [
    "Let's run the training on this realization, trying to predict the dark matter overdensity, and time it."
   ]
  },
  {
   "cell_type": "code",
   "execution_count": null,
   "metadata": {},
   "outputs": [
    {
     "data": {
      "application/vnd.jupyter.widget-view+json": {
       "model_id": "d647b1d03cf24275ab4979132a7f0eeb",
       "version_major": 2,
       "version_minor": 0
      },
      "text/plain": [
       "HBox(children=(FloatProgress(value=0.0, max=500.0), HTML(value='')))"
      ]
     },
     "metadata": {},
     "output_type": "display_data"
    },
    {
     "name": "stdout",
     "output_type": "stream",
     "text": [
      "0.29468351566791534\n",
      "0.2844412432809671\n",
      "0.2792148843904336\n",
      "0.2777001911004384\n",
      "0.2777185911734899\n",
      "0.272558917115132\n",
      "0.2714417648613453\n",
      "0.27263755108912785\n",
      "0.2736759371161461\n",
      "0.2714777327378591\n",
      "0.2710454677740733\n",
      "0.2703670420646668\n",
      "0.2695514450271924\n",
      "0.26773717510700223\n"
     ]
    }
   ],
   "source": [
    "out_loss = do_training(\n",
    "    ogn, graph_data['graph'], graph_data['trainloader'],\n",
    "    total_epochs=500, batch_per_epoch=1500\n",
    ");"
   ]
  },
  {
   "cell_type": "code",
   "execution_count": null,
   "metadata": {},
   "outputs": [],
   "source": []
  }
 ],
 "metadata": {
  "accelerator": "GPU",
  "colab": {
   "collapsed_sections": [
    "IXpsg0LUb2sT",
    "9RTQhSJDbfLZ",
    "Zw9W7SB-Zl-i",
    "ARWJg6SbZl-n",
    "8sCvhjgVpWIx",
    "1PRxdcqSZl-z",
    "kBtdfcvgZl_F",
    "gTHRRgTuZl_K",
    "g46wRgIWZl_S",
    "i1SJ012hZl_V",
    "RszfVgfhZl_a",
    "yyduWbndZl_e",
    "hSqOrC1WZl_l",
    "w12Qg4t_em8w",
    "Uxtqu4E4erXd",
    "lGJSTkWOZl_7",
    "YAqyXbr9dpKE",
    "c3R-CJtQZmAJ",
    "huBwFGpGZmAa",
    "-M5ORSBcZmAu"
   ],
   "name": "VisualizeGraphNetMessageComponents.ipynb",
   "provenance": []
  },
  "kernelspec": {
   "display_name": "main2",
   "language": "python",
   "name": "main2"
  },
  "language_info": {
   "codemirror_mode": {
    "name": "ipython",
    "version": 3
   },
   "file_extension": ".py",
   "mimetype": "text/x-python",
   "name": "python",
   "nbconvert_exporter": "python",
   "pygments_lexer": "ipython3",
   "version": "3.7.6"
  }
 },
 "nbformat": 4,
 "nbformat_minor": 4
}
